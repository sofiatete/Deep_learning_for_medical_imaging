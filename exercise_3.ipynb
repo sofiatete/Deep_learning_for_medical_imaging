{
 "cells": [
  {
   "cell_type": "code",
   "execution_count": 1,
   "metadata": {
    "collapsed": false
   },
   "outputs": [],
   "source": [
    "################################################################################\n",
    "# MIT License\n",
    "#\n",
    "# Copyright (c) 2021 University of Amsterdam\n",
    "#\n",
    "# Permission is hereby granted, free of charge, to any person obtaining a copy\n",
    "# of this software and associated documentation files (the \"Software\"), to deal\n",
    "# in the Software without restriction, including without limitation the rights\n",
    "# to use, copy, modify, merge, publish, distribute, sublicense, and/or sell\n",
    "# copies of the Software, and to permit persons to whom the Software is\n",
    "# furnished to do so, subject to conditions.\n",
    "#\n",
    "# Author: Deep Learning Course (UvA) | Fall 2022 & Oliver Gurney-Champion | Spring 2023\n",
    "# Date modified: Jan 2023\n",
    "################################################################################\n"
   ]
  },
  {
   "cell_type": "markdown",
   "metadata": {
    "collapsed": false
   },
   "source": [
    "# Import requiered packages\n",
    "imports the packages and sets the random seed"
   ]
  },
  {
   "cell_type": "code",
   "execution_count": 5,
   "metadata": {
    "collapsed": false
   },
   "outputs": [],
   "source": [
    "from __future__ import absolute_import\n",
    "from __future__ import division\n",
    "from __future__ import print_function\n",
    "import random\n",
    "import numpy as np\n",
    "import helper_functions as hf\n",
    "import torch\n",
    "from matplotlib import pyplot as plt\n",
    "\n",
    "# set random seed\n",
    "seed =42"
   ]
  },
  {
   "cell_type": "markdown",
   "metadata": {
    "collapsed": false
   },
   "source": [
    "login to your free wandb account. Note you will need to set up your account on https://wandb.ai/authorize\n",
    "wandb allows you to keep track of your neural network training."
   ]
  },
  {
   "cell_type": "code",
   "execution_count": 6,
   "metadata": {
    "collapsed": false
   },
   "outputs": [
    {
     "name": "stderr",
     "output_type": "stream",
     "text": [
      "\u001b[34m\u001b[1mwandb\u001b[0m: Currently logged in as: \u001b[33msofia-garcia-nunes\u001b[0m (\u001b[33msofia-garcia-nunes-vrije-universiteit-amsterdam\u001b[0m) to \u001b[32mhttps://api.wandb.ai\u001b[0m. Use \u001b[1m`wandb login --relogin`\u001b[0m to force relogin\n"
     ]
    },
    {
     "data": {
      "text/plain": [
       "True"
      ]
     },
     "execution_count": 6,
     "metadata": {},
     "output_type": "execute_result"
    }
   ],
   "source": [
    "import wandb\n",
    "wandb.login()"
   ]
  },
  {
   "cell_type": "markdown",
   "metadata": {
    "collapsed": false
   },
   "source": [
    "# Simulate and view the IVIM data\n",
    "Here, we split our data into a training set, validation set and test set. Note that the current implementation only uses the training set and it is up to you (in your exercises) to also implement the validation and test run. At this point, we already split the data for you."
   ]
  },
  {
   "cell_type": "code",
   "execution_count": 7,
   "metadata": {
    "collapsed": false,
    "pycharm": {
     "is_executing": true
    }
   },
   "outputs": [
    {
     "name": "stderr",
     "output_type": "stream",
     "text": [
      "\u001b[34m\u001b[1mwandb\u001b[0m: Using wandb-core as the SDK backend.  Please refer to https://wandb.me/wandb-core for more information.\n"
     ]
    },
    {
     "data": {
      "text/html": [
       "Tracking run with wandb version 0.19.5"
      ],
      "text/plain": [
       "<IPython.core.display.HTML object>"
      ]
     },
     "metadata": {},
     "output_type": "display_data"
    },
    {
     "data": {
      "text/html": [
       "Run data is saved locally in <code>/Users/sofiatete/Deep_learning_for_medical_imaging/wandb/run-20250219_154108-2zo1cqm5</code>"
      ],
      "text/plain": [
       "<IPython.core.display.HTML object>"
      ]
     },
     "metadata": {},
     "output_type": "display_data"
    },
    {
     "data": {
      "text/html": [
       "Syncing run <strong><a href='https://wandb.ai/sofia-garcia-nunes-vrije-universiteit-amsterdam/AI_for_medical_imaging/runs/2zo1cqm5' target=\"_blank\">neat-shadow-847</a></strong> to <a href='https://wandb.ai/sofia-garcia-nunes-vrije-universiteit-amsterdam/AI_for_medical_imaging' target=\"_blank\">Weights & Biases</a> (<a href='https://wandb.me/developer-guide' target=\"_blank\">docs</a>)<br>"
      ],
      "text/plain": [
       "<IPython.core.display.HTML object>"
      ]
     },
     "metadata": {},
     "output_type": "display_data"
    },
    {
     "data": {
      "text/html": [
       " View project at <a href='https://wandb.ai/sofia-garcia-nunes-vrije-universiteit-amsterdam/AI_for_medical_imaging' target=\"_blank\">https://wandb.ai/sofia-garcia-nunes-vrije-universiteit-amsterdam/AI_for_medical_imaging</a>"
      ],
      "text/plain": [
       "<IPython.core.display.HTML object>"
      ]
     },
     "metadata": {},
     "output_type": "display_data"
    },
    {
     "data": {
      "text/html": [
       " View run at <a href='https://wandb.ai/sofia-garcia-nunes-vrije-universiteit-amsterdam/AI_for_medical_imaging/runs/2zo1cqm5' target=\"_blank\">https://wandb.ai/sofia-garcia-nunes-vrije-universiteit-amsterdam/AI_for_medical_imaging/runs/2zo1cqm5</a>"
      ],
      "text/plain": [
       "<IPython.core.display.HTML object>"
      ]
     },
     "metadata": {},
     "output_type": "display_data"
    },
    {
     "data": {
      "text/html": [],
      "text/plain": [
       "<IPython.core.display.HTML object>"
      ]
     },
     "metadata": {},
     "output_type": "display_data"
    },
    {
     "data": {
      "text/html": [
       " View run <strong style=\"color:#cdcd00\">neat-shadow-847</strong> at: <a href='https://wandb.ai/sofia-garcia-nunes-vrije-universiteit-amsterdam/AI_for_medical_imaging/runs/2zo1cqm5' target=\"_blank\">https://wandb.ai/sofia-garcia-nunes-vrije-universiteit-amsterdam/AI_for_medical_imaging/runs/2zo1cqm5</a><br> View project at: <a href='https://wandb.ai/sofia-garcia-nunes-vrije-universiteit-amsterdam/AI_for_medical_imaging' target=\"_blank\">https://wandb.ai/sofia-garcia-nunes-vrije-universiteit-amsterdam/AI_for_medical_imaging</a><br>Synced 5 W&B file(s), 4 media file(s), 8 artifact file(s) and 0 other file(s)"
      ],
      "text/plain": [
       "<IPython.core.display.HTML object>"
      ]
     },
     "metadata": {},
     "output_type": "display_data"
    },
    {
     "data": {
      "text/html": [
       "Find logs at: <code>./wandb/run-20250219_154108-2zo1cqm5/logs</code>"
      ],
      "text/plain": [
       "<IPython.core.display.HTML object>"
      ]
     },
     "metadata": {},
     "output_type": "display_data"
    }
   ],
   "source": [
    "# set b-values at which we \"measure\" (i.e. simulate signal)\n",
    "bvalues=[0, 10, 20, 30, 50, 75, 100, 150, 300, 500, 700, 1000]\n",
    "\n",
    "## Set the random seeds for reproducibility\n",
    "np.random.seed(seed)\n",
    "random.seed(seed)\n",
    "\n",
    "#determine\n",
    "batch_size = 128\n",
    "\n",
    "with wandb.init(project=\"AI_for_medical_imaging\", job_type=\"visualize data\") as run:\n",
    "    data_sim = hf.sim_signal(SNR=(10,40),bvalues=bvalues,sims=10000,seed=np.random.randint(1,10000))\n",
    "    # Only for visualisation purposes: here we create our \"Artifact\" in wandb --> this allows viewing the data in your wandb account\n",
    "    for i in range(4):\n",
    "        #make b-value data pairs\n",
    "        example_data=[[x,y] for (x,y) in zip(bvalues,data_sim[0][i])]\n",
    "        # put it in a table\n",
    "        table = wandb.Table(data=example_data, columns=[\"b-values\", \"signal\"])\n",
    "        #tell wandb to plot the table\n",
    "        wandb.log({\"data_plot \" + str(i): wandb.plot.scatter(table, \"b-values\", \"signal\")})\n",
    "\n",
    "    # here we split the data into train (70%), test (15%) and validation (15%) sets\n",
    "    #split = int(np.floor(len(data_sim[0]) * 0.7))\n",
    "    train_set, test_set, val_set = torch.utils.data.random_split([[data_sim[0][i,:],data_sim[1][i],data_sim[2][i],data_sim[3][i]] for i in range(len(data_sim[3]))],[0.7,0.15,0.15])\n",
    "    #split = int(np.floor(len(rest) * 0.5))\n",
    "    #test_set, val_set = torch.utils.data.random_split([[rest[0][i,:],rest[1][i],rest[2][i],rest[3][i]] for i in range(len(rest[3]))],[split, len(rest[0]) - split])\n",
    "\n",
    "    # train loader loads the trianing data. We want to shuffle to make sure data order is modified each epoch and different data is selected each epoch.\n",
    "    trainloader = torch.utils.data.DataLoader(train_set,\n",
    "                                   batch_size=batch_size,\n",
    "                                   shuffle=True,\n",
    "                                   drop_last=True)\n",
    "    # validation data is loaded here. By not shuffling, we make sure the same data is loaded for validation every time. We can use substantially more data per batch as we are not training.\n",
    "    inferloader = torch.utils.data.DataLoader(val_set,\n",
    "                                   batch_size=batch_size,\n",
    "                                   shuffle=False,\n",
    "                                   drop_last=True)\n",
    "        # validation data is loaded here. By not shuffling, we make sure the same data is loaded for validation every time. We can use substantially more data per batch as we are not training.\n",
    "    testloader = torch.utils.data.DataLoader(test_set,\n",
    "                                   batch_size=batch_size,\n",
    "                                   shuffle=False,\n",
    "                                   drop_last=True)"
   ]
  },
  {
   "cell_type": "markdown",
   "metadata": {
    "collapsed": false
   },
   "source": [
    "3 A.\tProgram the different neural network modules (Lineairemodule, Relumodule, Tanhmodule, MSE) in “modules.py”. Use “do_unittest.py” to test whether the forward and backward passes are correct. Make only use of matrix multiplications, no for loops. Points will be deduced when for-loops are used where matrix multiplications were possible.\n",
    "3 B.  Combine all modules into a multilayer perceptron (MLP) in “exercise_3.ipynb”. Use ReLU activation functions after each fully connected linear module, except for the last module, after which a Tanh module should be used (constraining parameters between [-1, 1]). The number of layers and number of nodes per layer should be adjustable\n"
   ]
  },
  {
   "cell_type": "code",
   "execution_count": 17,
   "metadata": {
    "collapsed": false
   },
   "outputs": [],
   "source": [
    "\"\"\"\n",
    "This module implements a multi-layer perceptron (MLP) in NumPy.\n",
    "You should fill in code into indicated sections.\n",
    "\"\"\"\n",
    "from modules import MLP, MSE, LinearModule #you need to adapt these\n",
    "\n"
   ]
  },
  {
   "cell_type": "markdown",
   "metadata": {
    "collapsed": false
   },
   "source": [
    "# Exercise 3C-D\n",
    "C.\tTrain the neural network using just python and numpy code. You can find modules in \"modules.py\" which you will first have to fill in and train. You can then use these modules here!\n",
    "\n",
    "You can use \"do_unittest.py\" to test whether the modules from \"modules.py\" have been implemented correctly.\n",
    "\n",
    "You will need to add the updating of the gradients. As a sanity check, a network with 2 layers (64, 32), combined with a lr of 0.001, 30 epochs, and a batch size of 128 should work reasonably well and result in a systematic error of around 0.2% and a random error of around 20%.\n",
    "\n",
    "D.\tIt now uses the mini-batch stochastic gradient descent algorithm. Add momentum to the training update of the weights.\n"
   ]
  },
  {
   "cell_type": "code",
   "execution_count": 41,
   "metadata": {
    "collapsed": false,
    "pycharm": {
     "is_executing": true
    }
   },
   "outputs": [
    {
     "name": "stdout",
     "output_type": "stream",
     "text": [
      "epoch = 0 train loss =0.15261217051811407 val loss =0.13512346445660436the systematic error is -0.30610085536216336 and the random error is 0.20286557827008228\n",
      "epoch = 1 train loss =0.1307794753863435 val loss =0.11635281562747496the systematic error is -0.2737213200013047 and the random error is 0.202874694921404\n",
      "epoch = 2 train loss =0.1136301475840403 val loss =0.10137868506827961the systematic error is -0.24484099367658663 and the random error is 0.2028798753313106\n",
      "epoch = 3 train loss =0.0994616151557375 val loss =0.08948973279507903the systematic error is -0.2192195404576495 and the random error is 0.20288221032005135\n",
      "epoch = 4 train loss =0.08835951233227568 val loss =0.08000985901466154the systematic error is -0.19641007091796958 and the random error is 0.2028832303792334\n",
      "epoch = 5 train loss =0.07952941947826923 val loss =0.07244900722964663the systematic error is -0.17611339524996047 and the random error is 0.2028835615792478\n",
      "epoch = 6 train loss =0.07235501073707015 val loss =0.0663932187019203the systematic error is -0.15798798016848142 and the random error is 0.2028834074392754\n",
      "epoch = 7 train loss =0.06653012393374806 val loss =0.06156373840211462the systematic error is -0.14188371652092371 and the random error is 0.20288275198229713\n",
      "epoch = 8 train loss =0.061836195341308825 val loss =0.05768204489139379the systematic error is -0.12747467673277335 and the random error is 0.2028815335941184\n",
      "epoch = 9 train loss =0.05803303778308492 val loss =0.05456668427965883the systematic error is -0.11460892052357075 and the random error is 0.202879642615418\n",
      "epoch = 10 train loss =0.054937904049684204 val loss =0.05205730881182693the systematic error is -0.10308683761906004 and the random error is 0.20287702711201278\n",
      "epoch = 11 train loss =0.0524886470025581 val loss =0.05002999215884396the systematic error is -0.0927406958415541 and the random error is 0.20287394781681992\n",
      "epoch = 12 train loss =0.05052263355635036 val loss =0.04838816844813699the systematic error is -0.08342813822252146 and the random error is 0.20287090668986607\n",
      "epoch = 13 train loss =0.04869608988574577 val loss =0.04706239654471071the systematic error is -0.07507060755313565 and the random error is 0.2028681798256261\n",
      "epoch = 14 train loss =0.04747990246025626 val loss =0.04598489362109142the systematic error is -0.06752116873964555 and the random error is 0.20286569547690786\n",
      "epoch = 15 train loss =0.04633529682264195 val loss =0.04510754322841812the systematic error is -0.060684637370873776 and the random error is 0.20286357300101568\n",
      "epoch = 16 train loss =0.04537043724461947 val loss =0.044392469046424576the systematic error is -0.05448209293316664 and the random error is 0.2028617452977455\n",
      "epoch = 17 train loss =0.04455121861312307 val loss =0.04381548629724275the systematic error is -0.048907902959166895 and the random error is 0.20286011500820111\n",
      "epoch = 18 train loss =0.04397386697757298 val loss =0.04334370201339243the systematic error is -0.04382687994418759 and the random error is 0.20285865670967282\n",
      "epoch = 19 train loss =0.04347938899320045 val loss =0.042956394101472256the systematic error is -0.03916613030402915 and the random error is 0.20285743948889517\n",
      "epoch = 20 train loss =0.04314189650808137 val loss =0.04264288818705667the systematic error is -0.03494266628253811 and the random error is 0.20285619253451792\n",
      "epoch = 21 train loss =0.04268818878221961 val loss =0.042389741861733776the systematic error is -0.031118397059800004 and the random error is 0.20285494323214345\n",
      "epoch = 22 train loss =0.04239547530767059 val loss =0.042184164679134245the systematic error is -0.027625326958397402 and the random error is 0.2028540102886374\n",
      "epoch = 23 train loss =0.042159203159843554 val loss =0.04201907645256616the systematic error is -0.02446359024027918 and the random error is 0.2028530375058107\n",
      "epoch = 24 train loss =0.04180604192711135 val loss =0.04188611631409164the systematic error is -0.021584136193147637 and the random error is 0.202852135686111\n",
      "epoch = 25 train loss =0.041777224936721924 val loss =0.04177748369306269the systematic error is -0.018908932832412535 and the random error is 0.20285138804009434\n",
      "epoch = 26 train loss =0.041562022118407906 val loss =0.04169244440580182the systematic error is -0.0165188767833966 and the random error is 0.20285049538519184\n",
      "epoch = 27 train loss =0.04148205475504634 val loss =0.041623611462200755the systematic error is -0.014296495459295528 and the random error is 0.20284964016747534\n",
      "epoch = 28 train loss =0.041446511121143455 val loss =0.041569740903962586the systematic error is -0.012282103706871729 and the random error is 0.2028488302807885\n",
      "epoch = 29 train loss =0.04124685990767391 val loss =0.04152719449433078the systematic error is -0.010421922223494947 and the random error is 0.2028480643717905\n"
     ]
    }
   ],
   "source": [
    "# define parameters\n",
    "hidden_layers=(64,32)\n",
    "model=MLP(len(bvalues), hidden_layers, 1)\n",
    "epochs = 30\n",
    "learning_rate = 0.001\n",
    "\n",
    "# initialize wandb\n",
    "wandb.init(\n",
    "        project=\"AI_for_medical_imaging\", job_type=\"training\")\n",
    "\n",
    "loss_module1 = MSE()\n",
    "\n",
    "# set random seed for reproducibility\n",
    "torch.manual_seed(seed)\n",
    "\n",
    "# probe available devices\n",
    "if torch.cuda.is_available():  # GPU operation have separate seed\n",
    "    torch.cuda.manual_seed(seed)\n",
    "    torch.cuda.manual_seed_all(seed)\n",
    "    torch.backends.cudnn.determinstic = True\n",
    "    torch.backends.cudnn.benchmark = False\n",
    "\n",
    "sys_val_list_b = []\n",
    "SD_val_list_b = []\n",
    "\n",
    "# loop over epochs\n",
    "for epoch in range(epochs):\n",
    "    # initiate losses to 0\n",
    "    train_loss_f = 0\n",
    "    val_loss_f = 0\n",
    "    sys_train, SD_train, sys_val, SD_val = 0,0,0,0\n",
    "    #loop over all training data\n",
    "    for x in trainloader:\n",
    "        # get data (x[0]) and put the data on the GPU if available\n",
    "        batch=x[0].numpy()\n",
    "        # get the reference f (x[2]) --> note x[1] and x[3] are D and Dp respectively\n",
    "        f_ref = np.expand_dims(x[2].numpy(),axis=1)\n",
    "        # put the data through the neural network\n",
    "        f_pred = model.forward(batch)\n",
    "        # calculate loss (compare predicted f to the ground trueth)\n",
    "        train_loss_f += np.mean(loss_module1.forward(f_pred, f_ref))\n",
    "        # propogate the loss through the network (calculate d_wights/d_loss)\n",
    "        model.backward(loss_module1.backward())\n",
    "\n",
    "        # sys and SD error\n",
    "        sys_train += np.mean(f_pred - f_ref)\n",
    "        SD_train += np.std(f_pred - f_ref)\n",
    "\n",
    "        #######################\n",
    "        # PUT YOUR CODE HERE  #\n",
    "        #######################\n",
    "        # updating the gradients\n",
    "        for layer in model.LM:\n",
    "            layer.weights -= learning_rate * layer.grads['weight']\n",
    "            layer.bias -= learning_rate * layer.grads['bias']\n",
    "\n",
    "\n",
    "    for x in inferloader:\n",
    "        batch=x[0].numpy()\n",
    "        f_ref = np.expand_dims(x[2].numpy(),axis=1)\n",
    "        f_pred = model.forward(batch)\n",
    "        val_loss_f += np.mean(loss_module1.forward(f_pred, f_ref))\n",
    "\n",
    "        sys_val += np.mean(f_pred - f_ref)\n",
    "        SD_val += np.std(f_pred - f_ref)\n",
    "\n",
    "        #######################\n",
    "        # END OF YOUR CODE    #\n",
    "        #######################\n",
    "        model.clear_cache()\n",
    "    \n",
    "    sys_val_list_b.append(np.mean(f_pred - f_ref))\n",
    "    SD_val_list_b.append(np.std(f_pred - f_ref))\n",
    "    \n",
    "    # get final sys and SD\n",
    "    sys_val_batch = sys_val/inferloader.__len__()\n",
    "    SD_val_batch = SD_val/inferloader.__len__()\n",
    "\n",
    "    wandb.log({\"loss/train\": train_loss_f/trainloader.__len__(),\"loss/val\": val_loss_f/inferloader.__len__(),\"error/random error\":SD_val_batch,\"error/systematic error\":sys_val_batch})\n",
    "    print('epoch = ' + str(epoch) + ' train loss =' + str(train_loss_f/trainloader.__len__()) +' val loss =' + str(val_loss_f/inferloader.__len__()) + 'the systematic error is ' + str(sys_val_batch) + ' and the random error is ' + str(SD_val_batch))"
   ]
  },
  {
   "cell_type": "code",
   "execution_count": 48,
   "metadata": {
    "collapsed": false
   },
   "outputs": [
    {
     "name": "stdout",
     "output_type": "stream",
     "text": [
      "epoch = 0 train loss = 0.04048197309922699 val loss = 0.04119039106386901 systematic error = 0.00957655722056441 random error = 0.20206324938037154\n",
      "epoch = 1 train loss = 0.0405086000329033 val loss = 0.041192851620519666 systematic error = 0.010237417070602418 random error = 0.20203710759763957\n",
      "epoch = 2 train loss = 0.0404638712273782 val loss = 0.04117472343745501 systematic error = 0.009915084915070605 random error = 0.20200850677154467\n",
      "epoch = 3 train loss = 0.04041492830872967 val loss = 0.04116525940665963 systematic error = 0.01003114504340822 random error = 0.20197954123023518\n",
      "epoch = 4 train loss = 0.040505962212106436 val loss = 0.04113071074982482 systematic error = 0.008896347994128704 random error = 0.20194739652800087\n",
      "epoch = 5 train loss = 0.04053868866131984 val loss = 0.041132499899891796 systematic error = 0.009665990392882965 random error = 0.20191665514141774\n",
      "epoch = 6 train loss = 0.04039783123636937 val loss = 0.041109702585507654 systematic error = 0.009189816266848052 random error = 0.2018826576987222\n",
      "epoch = 7 train loss = 0.04043907477086108 val loss = 0.04109823898411802 systematic error = 0.009322739296518112 random error = 0.2018483942862347\n",
      "epoch = 8 train loss = 0.04046013513279686 val loss = 0.041105504044206445 systematic error = 0.01040307169350763 random error = 0.20181382716342966\n",
      "epoch = 9 train loss = 0.04038436573274812 val loss = 0.041068062086909746 systematic error = 0.009321844291069746 random error = 0.20177415974736365\n",
      "epoch = 10 train loss = 0.04032763184128743 val loss = 0.04106238056255846 systematic error = 0.009833353057352326 random error = 0.20173604817087903\n",
      "epoch = 11 train loss = 0.04040783597231927 val loss = 0.041042708570528004 systematic error = 0.00969072749733225 random error = 0.20169446245479392\n",
      "epoch = 12 train loss = 0.04031979441068651 val loss = 0.04102845328095047 systematic error = 0.009847177412640375 random error = 0.2016518210546372\n",
      "epoch = 13 train loss = 0.04026779835431515 val loss = 0.040999549013725295 systematic error = 0.009316853060266767 random error = 0.2016056483986803\n",
      "epoch = 14 train loss = 0.040206007661006404 val loss = 0.041002140328344976 systematic error = 0.010367983540472296 random error = 0.20156104509619965\n",
      "epoch = 15 train loss = 0.04026360915075319 val loss = 0.04096040953660443 systematic error = 0.009310742946733992 random error = 0.20150946641645887\n",
      "epoch = 16 train loss = 0.040295193532564486 val loss = 0.04093767403325969 systematic error = 0.009234238590683529 random error = 0.20145691271930097\n",
      "epoch = 17 train loss = 0.04021717763410771 val loss = 0.04091694552859896 systematic error = 0.009287763325852842 random error = 0.20140335330534587\n",
      "epoch = 18 train loss = 0.040203756770086106 val loss = 0.040896089015283604 systematic error = 0.009399759988139727 random error = 0.2013467471185588\n",
      "epoch = 19 train loss = 0.0401517329754641 val loss = 0.04088156089062978 systematic error = 0.009867126291287238 random error = 0.2012886852109725\n",
      "epoch = 20 train loss = 0.04013483189796297 val loss = 0.040864095293230034 systematic error = 0.010218629045959871 random error = 0.2012281538203486\n",
      "epoch = 21 train loss = 0.040223594862825694 val loss = 0.040838388131497115 systematic error = 0.010249629503713309 random error = 0.2011631183649599\n",
      "epoch = 22 train loss = 0.040091282553999276 val loss = 0.04078626299006041 systematic error = 0.00909267357564643 random error = 0.20108965458188113\n",
      "epoch = 23 train loss = 0.04006441534610251 val loss = 0.04076689618162627 systematic error = 0.009565756216249187 random error = 0.2010199996631216\n",
      "epoch = 24 train loss = 0.040092564107721676 val loss = 0.04073493689309157 systematic error = 0.009481112154662592 random error = 0.20094499948108\n",
      "epoch = 25 train loss = 0.03996776208231351 val loss = 0.04070750220186023 systematic error = 0.00968334943216601 random error = 0.20086758825370604\n",
      "epoch = 26 train loss = 0.04005227089035746 val loss = 0.04067760722190364 systematic error = 0.009843179072727627 random error = 0.2007859272712387\n",
      "epoch = 27 train loss = 0.03998513381386154 val loss = 0.040636078878232104 systematic error = 0.009520347444175516 random error = 0.20069863810270636\n",
      "epoch = 28 train loss = 0.03992025258771602 val loss = 0.040585254678838216 systematic error = 0.00879319611336306 random error = 0.2006057897294091\n",
      "epoch = 29 train loss = 0.03989166364663292 val loss = 0.04055480620374574 systematic error = 0.009222368343285967 random error = 0.20051122776253036\n"
     ]
    }
   ],
   "source": [
    "# Define momentum parameter\n",
    "momentum = 0.9\n",
    "\n",
    "# Initialize velocity terms for weights and biases\n",
    "velocity_w = {layer: np.zeros_like(layer.weights) for layer in model.LM}\n",
    "velocity_b = {layer: np.zeros_like(layer.bias) for layer in model.LM}\n",
    "\n",
    "sys_val_list_m = []\n",
    "SD_val_list_m = []\n",
    "# loop over epochs\n",
    "for epoch in range(epochs):\n",
    "    train_loss_f = 0\n",
    "    val_loss_f = 0\n",
    "    sys_train, SD_train, sys_val_momentum, SD_val_momentum = 0, 0, 0, 0\n",
    "\n",
    "    # Loop over all training data\n",
    "    for x in trainloader:\n",
    "        batch = x[0].numpy()\n",
    "        f_ref = np.expand_dims(x[2].numpy(), axis=1)\n",
    "\n",
    "        # Forward pass\n",
    "        f_pred = model.forward(batch)\n",
    "\n",
    "        # Compute loss\n",
    "        train_loss_f += np.mean(loss_module1.forward(f_pred, f_ref))\n",
    "\n",
    "        # Backpropagation\n",
    "        grads = loss_module1.backward()\n",
    "        model.backward(grads)\n",
    "\n",
    "        # Update weights with momentum\n",
    "        for layer in model.LM:\n",
    "            velocity_w[layer] = momentum * velocity_w[layer] - learning_rate * layer.grads['weight']\n",
    "            velocity_b[layer] = momentum * velocity_b[layer] - learning_rate * layer.grads['bias']\n",
    "\n",
    "            layer.weights += velocity_w[layer]\n",
    "            layer.bias += velocity_b[layer]\n",
    "\n",
    "        # Compute systematic and standard deviation errors\n",
    "        sys_train += np.mean(f_pred - f_ref)\n",
    "        SD_train += np.std(f_pred - f_ref)\n",
    "\n",
    "    \n",
    "    # Validation phase\n",
    "    for x in inferloader:\n",
    "        batch = x[0].numpy()\n",
    "        f_ref = np.expand_dims(x[2].numpy(), axis=1)\n",
    "        f_pred = model.forward(batch)\n",
    "        val_loss_f += np.mean(loss_module1.forward(f_pred, f_ref))\n",
    "\n",
    "        sys_val_momentum += np.mean(f_pred - f_ref)\n",
    "        SD_val_momentum += np.std(f_pred - f_ref)\n",
    "\n",
    "        model.clear_cache()\n",
    "\n",
    "    sys_val_list_m.append(np.mean(f_pred - f_ref))\n",
    "    SD_val_list_m.append(np.std(f_pred - f_ref))\n",
    "\n",
    "    # Compute final systematic and random errors\n",
    "    sys_val_momentum /= len(inferloader)\n",
    "    SD_val_momentum /= len(inferloader)\n",
    "\n",
    "    # Log results to WandB\n",
    "    wandb.log({\n",
    "        \"loss/train\": train_loss_f / len(trainloader),\n",
    "        \"loss/val\": val_loss_f / len(inferloader),\n",
    "        \"error/random error\": SD_val_momentum,\n",
    "        \"error/systematic error\": sys_val_momentum\n",
    "    })\n",
    "\n",
    "    print(f'epoch = {epoch} train loss = {train_loss_f / len(trainloader)} val loss = {val_loss_f / len(inferloader)} systematic error = {sys_val_momentum} random error = {SD_val_momentum}')"
   ]
  },
  {
   "cell_type": "code",
   "execution_count": 49,
   "metadata": {
    "collapsed": false
   },
   "outputs": [
    {
     "data": {
      "image/png": "[encoded data removed]",
      "text/plain": [
       "<Figure size 1200x600 with 2 Axes>"
      ]
     },
     "metadata": {},
     "output_type": "display_data"
    }
   ],
   "source": [
    "# Plot the sys and SD errors for the batch and momentum GD in two side by side plots\n",
    "plt.figure(figsize=(12, 6))\n",
    "plt.subplot(1, 2, 1)\n",
    "plt.plot(sys_val_list_b, label='Batch GD', color = 'purple')\n",
    "plt.plot(sys_val_list_m, label='Momentum GD', color = 'blue')\n",
    "plt.xlabel('Epoch')\n",
    "plt.ylabel('Systematic error')\n",
    "plt.legend()\n",
    "\n",
    "plt.subplot(1, 2, 2)\n",
    "plt.plot(SD_val_list_b, label='Batch GD', color = 'purple')\n",
    "plt.plot(SD_val_list_m, label='Momentum GD', color = 'blue')\n",
    "plt.xlabel('Epoch')\n",
    "plt.ylabel('Random error')\n",
    "plt.legend()\n",
    "\n",
    "plt.show()"
   ]
  }
 ],
 "metadata": {
  "kernelspec": {
   "display_name": "base",
   "language": "python",
   "name": "python3"
  },
  "language_info": {
   "codemirror_mode": {
    "name": "ipython",
    "version": 3
   },
   "file_extension": ".py",
   "mimetype": "text/x-python",
   "name": "python",
   "nbconvert_exporter": "python",
   "pygments_lexer": "ipython3",
   "version": "3.12.4"
  }
 },
 "nbformat": 4,
 "nbformat_minor": 0
}
